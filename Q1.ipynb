{
 "cells": [
  {
   "cell_type": "code",
   "execution_count": 91,
   "metadata": {},
   "outputs": [],
   "source": [
    "import requests\n",
    "from datetime import datetime,timedelta\n",
    "import pandas as pd"
   ]
  },
  {
   "cell_type": "code",
   "execution_count": 92,
   "metadata": {},
   "outputs": [],
   "source": [
    "class Client:\n",
    "\n",
    "    def __init__(self, API_KEY. str):\n",
    "\n",
    "        self.API_KEY = API_KEY\n",
    "        self.URL = 'https://api.currencyapi.com/v3/historical'\n",
    "\n",
    "    def historical(self, start_date: str, end_date: str, base_currency: str = \"USD\") -> pd.DataFrame:\n",
    "        '''Returns a DataFrame with historical currency data for a given time interval and base currency\n",
    "\n",
    "        input:\n",
    "        start_date: str, format: YYYY-MM-DD\n",
    "        end_date: str, format: YYYY-MM-DD\n",
    "        base_currency: str, default: USD\n",
    "\n",
    "        output:\n",
    "        pd.DataFrame\n",
    "        '''\n",
    "        \n",
    "        df_list = []\n",
    "\n",
    "        date_list = self.__create_time_interval(start_date, end_date)\n",
    "\n",
    "        for date in date_list:\n",
    "            data = self.__get_currency_data(date)\n",
    "            df = self.__parse_currency_data(data,date)\n",
    "       \n",
    "            df_list.append(df)\n",
    "\n",
    "        return pd.concat(df_list)\n",
    "            \n",
    "    def __create_time_interval(self, start_date:str, end_date: str) -> list:\n",
    "        '''Returns a list of dates between a start and end date\n",
    "\n",
    "        input:\n",
    "        start_date: str, format: YYYY-MM-DD\n",
    "        end_date: str, format: YYYY-MM-DD\n",
    "\n",
    "        output:\n",
    "        list\n",
    "        '''\n",
    "\n",
    "        start = datetime.strptime(start_date, \"%Y-%m-%d\")\n",
    "        end = datetime.strptime(end_date, \"%Y-%m-%d\")\n",
    "\n",
    "        date_list = []\n",
    "        current_date = start\n",
    "        while current_date <= end:\n",
    "            date_list.append(current_date.strftime(\"%Y-%m-%d\"))\n",
    "            current_date += timedelta(days=1)\n",
    "\n",
    "        return date_list\n",
    "    \n",
    "    def __get_currency_data(self, date: str) -> dict:\n",
    "        '''Returns a dictionary with currency data for a given date\n",
    "\n",
    "        input:\n",
    "        date: str, format: YYYY-MM-DD\n",
    "\n",
    "        output:\n",
    "        dict\n",
    "        '''\n",
    "\n",
    "        params = {\n",
    "            'date': f'{date}',\n",
    "        }\n",
    "\n",
    "        # Add your API key in the headers\n",
    "        headers = {\n",
    "            'apikey': self.API_KEY\n",
    "        }\n",
    "\n",
    "        # Perform the GET request\n",
    "        response = requests.get(self.URL, headers=headers, params=params)\n",
    "\n",
    "        # Check if the request was successful\n",
    "        if response.status_code == 200:\n",
    "            return response.json()\n",
    "        else:\n",
    "            print(f'Failed to fetch data: {response.status_code}')\n",
    "\n",
    "    def __parse_currency_data(self, data: str, date: str) -> pd.DataFrame:\n",
    "        '''Returns a DataFrame with currency data for a given date\n",
    "\n",
    "        input:\n",
    "        data: dict\n",
    "        date: str, format: YYYY-MM-DD\n",
    "\n",
    "        '''\n",
    "            \n",
    "        currency_data = data['data']\n",
    "\n",
    "        # Creating a DataFrame\n",
    "        df = pd.DataFrame.from_dict(currency_data, orient='index')\n",
    "        df[\"date\"] = date\n",
    "        df.rename(columns={\"code\": \"name\"}, inplace=True)\n",
    "\n",
    "        return df\n",
    "    \n",
    "    def convert_to_csv(self, df, filename):\n",
    "        df.to_csv(filename, index=False)\n",
    "\n"
   ]
  },
  {
   "cell_type": "code",
   "execution_count": 93,
   "metadata": {},
   "outputs": [],
   "source": [
    "api_key = \"cur_live_2Db4Ox8GokNGVZSFF2kk3C4qROH745UOZRuEUWDA\""
   ]
  },
  {
   "cell_type": "code",
   "execution_count": 94,
   "metadata": {},
   "outputs": [],
   "source": [
    "client = Client(api_key)"
   ]
  },
  {
   "cell_type": "code",
   "execution_count": 95,
   "metadata": {},
   "outputs": [],
   "source": [
    "client.convert_to_csv(client.historical('2021-01-01', '2021-01-10', 'USD'), \"test.csv\")"
   ]
  },
  {
   "cell_type": "markdown",
   "metadata": {},
   "source": [
    "# I could not use the code snippet below because of free plan"
   ]
  },
  {
   "cell_type": "code",
   "execution_count": 23,
   "metadata": {},
   "outputs": [
    {
     "name": "stdout",
     "output_type": "stream",
     "text": [
      "Failed to fetch data: <Response [403]>\n"
     ]
    }
   ],
   "source": [
    "\"\"\"url = \"https://api.currencyapi.com/v3/range\"\n",
    "\n",
    "params = {\n",
    "    \"datetime_start\": \"2021-01-01T23:59:59Z\",\n",
    "    \"datetime_end\": \"2021-01-10yT23:59:59Z\",\n",
    "    \"accuracy\": \"day\",\n",
    "    \"base_currency\": \"USD\",\n",
    "}\n",
    "\n",
    "headers = {\n",
    "    \"apikey\": api_key\n",
    "}\n",
    "\n",
    "response = requests.get(url, headers=headers, params=params)\n",
    "\n",
    "if response.status_code == 200:\n",
    "    # Process the response here\n",
    "    data = response.json()\n",
    "    print(data)\n",
    "else:\n",
    "    print(f\"Failed to fetch data: {response}\")\"\"\"\n"
   ]
  }
 ],
 "metadata": {
  "kernelspec": {
   "display_name": "Python 3",
   "language": "python",
   "name": "python3"
  },
  "language_info": {
   "codemirror_mode": {
    "name": "ipython",
    "version": 3
   },
   "file_extension": ".py",
   "mimetype": "text/x-python",
   "name": "python",
   "nbconvert_exporter": "python",
   "pygments_lexer": "ipython3",
   "version": "3.11.4"
  }
 },
 "nbformat": 4,
 "nbformat_minor": 2
}
